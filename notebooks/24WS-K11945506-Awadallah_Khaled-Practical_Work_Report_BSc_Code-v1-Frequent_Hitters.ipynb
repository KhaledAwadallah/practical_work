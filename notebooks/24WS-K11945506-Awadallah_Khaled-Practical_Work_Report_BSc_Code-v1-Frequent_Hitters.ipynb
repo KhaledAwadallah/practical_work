{
 "cells": [
  {
   "cell_type": "code",
   "execution_count": 2,
   "id": "076c3a53-620b-408d-802a-99986bbc84c6",
   "metadata": {
    "tags": []
   },
   "outputs": [],
   "source": [
    "import numpy as np\n",
    "import pandas as pd\n",
    "import pickle\n",
    "\n",
    "from rdkit import Chem\n",
    "from rdkit import DataStructs\n",
    "from rdkit.Chem import Descriptors, rdFingerprintGenerator\n",
    "from sklearn.preprocessing import StandardScaler\n",
    "from sklearn.model_selection import train_test_split\n",
    "from statsmodels.distributions.empirical_distribution import ECDF\n",
    "\n",
    "real_200_descr = [0,1,2,3,4,5,6,7,8,9,10,11,12,13,14,15,16,25,26,27,28,29,30, 31,32,33,34,35,36,37,38,39,40,41,42,43,44,45,46,47,48,49,50,51,52,53,54,55,56,57,58,59,60,61,62,63,64,65,66,67,68,69,70,71,72,73,74,75,76,77,78,79,80,81,82,83,84,85,86,87,88,89,90,91,92,93,94,95,96,97,98,99,100,101,102,103,104,105,106,107,108,109,110,111,112,113,114,115,116,117,118,119,120,121,122,123,124,125,126,127,128,129,130,131,132,133,134,135,136,137,138,139,140,141,142,143,144,145,146,147,148,149,150,151,152,153,154,155,156,157,158,159,160,161,162,163,164,165,166,167,168,169,170,171,172,173,174,175,176,177,178,179,180,181,182,183,184,185,186,187,188,189,190,191,192,193,194,195,196,197,198,199,200,201,202,203,204,205,206,207]"
   ]
  },
  {
   "cell_type": "code",
   "execution_count": 3,
   "id": "3c516540-dcdb-4856-bc4c-2863868babfe",
   "metadata": {
    "tags": []
   },
   "outputs": [
    {
     "name": "stdout",
     "output_type": "stream",
     "text": [
      "Shape:  (93087, 19)\n",
      "# meas.:  436060\n"
     ]
    },
    {
     "data": {
      "text/html": [
       "<div>\n",
       "<style scoped>\n",
       "    .dataframe tbody tr th:only-of-type {\n",
       "        vertical-align: middle;\n",
       "    }\n",
       "\n",
       "    .dataframe tbody tr th {\n",
       "        vertical-align: top;\n",
       "    }\n",
       "\n",
       "    .dataframe thead th {\n",
       "        text-align: right;\n",
       "    }\n",
       "</style>\n",
       "<table border=\"1\" class=\"dataframe\">\n",
       "  <thead>\n",
       "    <tr style=\"text-align: right;\">\n",
       "      <th></th>\n",
       "      <th>MUV-466</th>\n",
       "      <th>MUV-548</th>\n",
       "      <th>MUV-600</th>\n",
       "      <th>MUV-644</th>\n",
       "      <th>MUV-652</th>\n",
       "      <th>MUV-689</th>\n",
       "      <th>MUV-692</th>\n",
       "      <th>MUV-712</th>\n",
       "      <th>MUV-713</th>\n",
       "      <th>MUV-733</th>\n",
       "      <th>MUV-737</th>\n",
       "      <th>MUV-810</th>\n",
       "      <th>MUV-832</th>\n",
       "      <th>MUV-846</th>\n",
       "      <th>MUV-852</th>\n",
       "      <th>MUV-858</th>\n",
       "      <th>MUV-859</th>\n",
       "      <th>mol_id</th>\n",
       "      <th>smiles</th>\n",
       "    </tr>\n",
       "  </thead>\n",
       "  <tbody>\n",
       "    <tr>\n",
       "      <th>0</th>\n",
       "      <td>NaN</td>\n",
       "      <td>NaN</td>\n",
       "      <td>NaN</td>\n",
       "      <td>NaN</td>\n",
       "      <td>NaN</td>\n",
       "      <td>NaN</td>\n",
       "      <td>NaN</td>\n",
       "      <td>0.0</td>\n",
       "      <td>NaN</td>\n",
       "      <td>NaN</td>\n",
       "      <td>NaN</td>\n",
       "      <td>0.0</td>\n",
       "      <td>NaN</td>\n",
       "      <td>NaN</td>\n",
       "      <td>NaN</td>\n",
       "      <td>NaN</td>\n",
       "      <td>NaN</td>\n",
       "      <td>CID2999678</td>\n",
       "      <td>Cc1cccc(N2CCN(C(=O)C34CC5CC(CC(C5)C3)C4)CC2)c1C</td>\n",
       "    </tr>\n",
       "    <tr>\n",
       "      <th>1</th>\n",
       "      <td>0.0</td>\n",
       "      <td>0.0</td>\n",
       "      <td>NaN</td>\n",
       "      <td>NaN</td>\n",
       "      <td>0.0</td>\n",
       "      <td>0.0</td>\n",
       "      <td>0.0</td>\n",
       "      <td>NaN</td>\n",
       "      <td>NaN</td>\n",
       "      <td>NaN</td>\n",
       "      <td>0.0</td>\n",
       "      <td>NaN</td>\n",
       "      <td>0.0</td>\n",
       "      <td>NaN</td>\n",
       "      <td>NaN</td>\n",
       "      <td>0.0</td>\n",
       "      <td>0.0</td>\n",
       "      <td>CID2999679</td>\n",
       "      <td>Cn1ccnc1SCC(=O)Nc1ccc(Oc2ccccc2)cc1</td>\n",
       "    </tr>\n",
       "    <tr>\n",
       "      <th>2</th>\n",
       "      <td>NaN</td>\n",
       "      <td>NaN</td>\n",
       "      <td>0.0</td>\n",
       "      <td>NaN</td>\n",
       "      <td>NaN</td>\n",
       "      <td>NaN</td>\n",
       "      <td>NaN</td>\n",
       "      <td>NaN</td>\n",
       "      <td>NaN</td>\n",
       "      <td>NaN</td>\n",
       "      <td>NaN</td>\n",
       "      <td>NaN</td>\n",
       "      <td>NaN</td>\n",
       "      <td>NaN</td>\n",
       "      <td>NaN</td>\n",
       "      <td>NaN</td>\n",
       "      <td>0.0</td>\n",
       "      <td>CID2999672</td>\n",
       "      <td>COc1cc2c(cc1NC(=O)CN1C(=O)NC3(CCc4ccccc43)C1=O...</td>\n",
       "    </tr>\n",
       "    <tr>\n",
       "      <th>3</th>\n",
       "      <td>NaN</td>\n",
       "      <td>0.0</td>\n",
       "      <td>0.0</td>\n",
       "      <td>NaN</td>\n",
       "      <td>NaN</td>\n",
       "      <td>0.0</td>\n",
       "      <td>NaN</td>\n",
       "      <td>NaN</td>\n",
       "      <td>NaN</td>\n",
       "      <td>NaN</td>\n",
       "      <td>NaN</td>\n",
       "      <td>NaN</td>\n",
       "      <td>NaN</td>\n",
       "      <td>NaN</td>\n",
       "      <td>NaN</td>\n",
       "      <td>0.0</td>\n",
       "      <td>NaN</td>\n",
       "      <td>CID5390002</td>\n",
       "      <td>O=C1/C(=C/NC2CCS(=O)(=O)C2)c2ccccc2C(=O)N1c1cc...</td>\n",
       "    </tr>\n",
       "    <tr>\n",
       "      <th>4</th>\n",
       "      <td>0.0</td>\n",
       "      <td>NaN</td>\n",
       "      <td>NaN</td>\n",
       "      <td>NaN</td>\n",
       "      <td>0.0</td>\n",
       "      <td>NaN</td>\n",
       "      <td>0.0</td>\n",
       "      <td>0.0</td>\n",
       "      <td>NaN</td>\n",
       "      <td>NaN</td>\n",
       "      <td>NaN</td>\n",
       "      <td>NaN</td>\n",
       "      <td>NaN</td>\n",
       "      <td>NaN</td>\n",
       "      <td>NaN</td>\n",
       "      <td>NaN</td>\n",
       "      <td>NaN</td>\n",
       "      <td>CID2999670</td>\n",
       "      <td>NC(=O)NC(Cc1ccccc1)C(=O)O</td>\n",
       "    </tr>\n",
       "    <tr>\n",
       "      <th>...</th>\n",
       "      <td>...</td>\n",
       "      <td>...</td>\n",
       "      <td>...</td>\n",
       "      <td>...</td>\n",
       "      <td>...</td>\n",
       "      <td>...</td>\n",
       "      <td>...</td>\n",
       "      <td>...</td>\n",
       "      <td>...</td>\n",
       "      <td>...</td>\n",
       "      <td>...</td>\n",
       "      <td>...</td>\n",
       "      <td>...</td>\n",
       "      <td>...</td>\n",
       "      <td>...</td>\n",
       "      <td>...</td>\n",
       "      <td>...</td>\n",
       "      <td>...</td>\n",
       "      <td>...</td>\n",
       "    </tr>\n",
       "    <tr>\n",
       "      <th>93082</th>\n",
       "      <td>NaN</td>\n",
       "      <td>NaN</td>\n",
       "      <td>NaN</td>\n",
       "      <td>NaN</td>\n",
       "      <td>NaN</td>\n",
       "      <td>NaN</td>\n",
       "      <td>NaN</td>\n",
       "      <td>NaN</td>\n",
       "      <td>NaN</td>\n",
       "      <td>NaN</td>\n",
       "      <td>NaN</td>\n",
       "      <td>NaN</td>\n",
       "      <td>NaN</td>\n",
       "      <td>0.0</td>\n",
       "      <td>NaN</td>\n",
       "      <td>NaN</td>\n",
       "      <td>NaN</td>\n",
       "      <td>CID2957283</td>\n",
       "      <td>O=C(NCc1ccccc1Cl)C1CCCO1</td>\n",
       "    </tr>\n",
       "    <tr>\n",
       "      <th>93083</th>\n",
       "      <td>NaN</td>\n",
       "      <td>NaN</td>\n",
       "      <td>NaN</td>\n",
       "      <td>NaN</td>\n",
       "      <td>NaN</td>\n",
       "      <td>NaN</td>\n",
       "      <td>NaN</td>\n",
       "      <td>0.0</td>\n",
       "      <td>NaN</td>\n",
       "      <td>NaN</td>\n",
       "      <td>NaN</td>\n",
       "      <td>NaN</td>\n",
       "      <td>NaN</td>\n",
       "      <td>NaN</td>\n",
       "      <td>NaN</td>\n",
       "      <td>NaN</td>\n",
       "      <td>NaN</td>\n",
       "      <td>CID414138</td>\n",
       "      <td>COc1cc(NCCCCCN2C(=O)c3ccccc3C2=O)c2ncccc2c1</td>\n",
       "    </tr>\n",
       "    <tr>\n",
       "      <th>93084</th>\n",
       "      <td>NaN</td>\n",
       "      <td>NaN</td>\n",
       "      <td>NaN</td>\n",
       "      <td>NaN</td>\n",
       "      <td>NaN</td>\n",
       "      <td>NaN</td>\n",
       "      <td>NaN</td>\n",
       "      <td>NaN</td>\n",
       "      <td>NaN</td>\n",
       "      <td>NaN</td>\n",
       "      <td>NaN</td>\n",
       "      <td>NaN</td>\n",
       "      <td>NaN</td>\n",
       "      <td>0.0</td>\n",
       "      <td>NaN</td>\n",
       "      <td>NaN</td>\n",
       "      <td>NaN</td>\n",
       "      <td>CID718652</td>\n",
       "      <td>CCN(CC)c1ccc(/C=C2/C(=O)ON=C2C)cc1</td>\n",
       "    </tr>\n",
       "    <tr>\n",
       "      <th>93085</th>\n",
       "      <td>NaN</td>\n",
       "      <td>NaN</td>\n",
       "      <td>NaN</td>\n",
       "      <td>NaN</td>\n",
       "      <td>NaN</td>\n",
       "      <td>NaN</td>\n",
       "      <td>NaN</td>\n",
       "      <td>NaN</td>\n",
       "      <td>NaN</td>\n",
       "      <td>NaN</td>\n",
       "      <td>NaN</td>\n",
       "      <td>NaN</td>\n",
       "      <td>NaN</td>\n",
       "      <td>NaN</td>\n",
       "      <td>0.0</td>\n",
       "      <td>NaN</td>\n",
       "      <td>NaN</td>\n",
       "      <td>CID2446949</td>\n",
       "      <td>Cc1cc(=O)oc2cc(OCC(=O)c3ccc4c(c3)NC(=O)CO4)ccc12</td>\n",
       "    </tr>\n",
       "    <tr>\n",
       "      <th>93086</th>\n",
       "      <td>NaN</td>\n",
       "      <td>NaN</td>\n",
       "      <td>NaN</td>\n",
       "      <td>NaN</td>\n",
       "      <td>NaN</td>\n",
       "      <td>NaN</td>\n",
       "      <td>NaN</td>\n",
       "      <td>NaN</td>\n",
       "      <td>NaN</td>\n",
       "      <td>NaN</td>\n",
       "      <td>NaN</td>\n",
       "      <td>NaN</td>\n",
       "      <td>NaN</td>\n",
       "      <td>NaN</td>\n",
       "      <td>0.0</td>\n",
       "      <td>NaN</td>\n",
       "      <td>NaN</td>\n",
       "      <td>CID844405</td>\n",
       "      <td>COc1ccc([N+](=O)[O-])cc1NC(=O)c1ccc(C)o1</td>\n",
       "    </tr>\n",
       "  </tbody>\n",
       "</table>\n",
       "<p>93087 rows × 19 columns</p>\n",
       "</div>"
      ],
      "text/plain": [
       "       MUV-466  MUV-548  MUV-600  MUV-644  MUV-652  MUV-689  MUV-692  MUV-712  \\\n",
       "0          NaN      NaN      NaN      NaN      NaN      NaN      NaN      0.0   \n",
       "1          0.0      0.0      NaN      NaN      0.0      0.0      0.0      NaN   \n",
       "2          NaN      NaN      0.0      NaN      NaN      NaN      NaN      NaN   \n",
       "3          NaN      0.0      0.0      NaN      NaN      0.0      NaN      NaN   \n",
       "4          0.0      NaN      NaN      NaN      0.0      NaN      0.0      0.0   \n",
       "...        ...      ...      ...      ...      ...      ...      ...      ...   \n",
       "93082      NaN      NaN      NaN      NaN      NaN      NaN      NaN      NaN   \n",
       "93083      NaN      NaN      NaN      NaN      NaN      NaN      NaN      0.0   \n",
       "93084      NaN      NaN      NaN      NaN      NaN      NaN      NaN      NaN   \n",
       "93085      NaN      NaN      NaN      NaN      NaN      NaN      NaN      NaN   \n",
       "93086      NaN      NaN      NaN      NaN      NaN      NaN      NaN      NaN   \n",
       "\n",
       "       MUV-713  MUV-733  MUV-737  MUV-810  MUV-832  MUV-846  MUV-852  MUV-858  \\\n",
       "0          NaN      NaN      NaN      0.0      NaN      NaN      NaN      NaN   \n",
       "1          NaN      NaN      0.0      NaN      0.0      NaN      NaN      0.0   \n",
       "2          NaN      NaN      NaN      NaN      NaN      NaN      NaN      NaN   \n",
       "3          NaN      NaN      NaN      NaN      NaN      NaN      NaN      0.0   \n",
       "4          NaN      NaN      NaN      NaN      NaN      NaN      NaN      NaN   \n",
       "...        ...      ...      ...      ...      ...      ...      ...      ...   \n",
       "93082      NaN      NaN      NaN      NaN      NaN      0.0      NaN      NaN   \n",
       "93083      NaN      NaN      NaN      NaN      NaN      NaN      NaN      NaN   \n",
       "93084      NaN      NaN      NaN      NaN      NaN      0.0      NaN      NaN   \n",
       "93085      NaN      NaN      NaN      NaN      NaN      NaN      0.0      NaN   \n",
       "93086      NaN      NaN      NaN      NaN      NaN      NaN      0.0      NaN   \n",
       "\n",
       "       MUV-859      mol_id                                             smiles  \n",
       "0          NaN  CID2999678    Cc1cccc(N2CCN(C(=O)C34CC5CC(CC(C5)C3)C4)CC2)c1C  \n",
       "1          0.0  CID2999679                Cn1ccnc1SCC(=O)Nc1ccc(Oc2ccccc2)cc1  \n",
       "2          0.0  CID2999672  COc1cc2c(cc1NC(=O)CN1C(=O)NC3(CCc4ccccc43)C1=O...  \n",
       "3          NaN  CID5390002  O=C1/C(=C/NC2CCS(=O)(=O)C2)c2ccccc2C(=O)N1c1cc...  \n",
       "4          NaN  CID2999670                          NC(=O)NC(Cc1ccccc1)C(=O)O  \n",
       "...        ...         ...                                                ...  \n",
       "93082      NaN  CID2957283                           O=C(NCc1ccccc1Cl)C1CCCO1  \n",
       "93083      NaN   CID414138        COc1cc(NCCCCCN2C(=O)c3ccccc3C2=O)c2ncccc2c1  \n",
       "93084      NaN   CID718652                 CCN(CC)c1ccc(/C=C2/C(=O)ON=C2C)cc1  \n",
       "93085      NaN  CID2446949   Cc1cc(=O)oc2cc(OCC(=O)c3ccc4c(c3)NC(=O)CO4)ccc12  \n",
       "93086      NaN   CID844405           COc1ccc([N+](=O)[O-])cc1NC(=O)c1ccc(C)o1  \n",
       "\n",
       "[93087 rows x 19 columns]"
      ]
     },
     "execution_count": 3,
     "metadata": {},
     "output_type": "execute_result"
    }
   ],
   "source": [
    "# MUV\n",
    "# 93 k mols, 17 tasks, 436,060 measurements\n",
    "\n",
    "muv = pd.read_csv(\"/Users/khalidali/Desktop/Uni Semesters/Semester 5/Practical Work/datasets/muv.csv\")\n",
    "\n",
    "print('Shape: ', muv.shape)\n",
    "\n",
    "vals = muv.values.flatten()\n",
    "print('# meas.: ', len([v for v in vals if str(v) != 'nan']))\n",
    "\n",
    "muv"
   ]
  },
  {
   "cell_type": "code",
   "execution_count": 4,
   "id": "9a207af6-5175-497b-886d-0f6c0d892194",
   "metadata": {
    "tags": []
   },
   "outputs": [
    {
     "data": {
      "text/plain": [
       "{'MUV-466': 78246,\n",
       " 'MUV-548': 78353,\n",
       " 'MUV-600': 78359,\n",
       " 'MUV-644': 78464,\n",
       " 'MUV-652': 78185,\n",
       " 'MUV-689': 78486,\n",
       " 'MUV-692': 78443,\n",
       " 'MUV-712': 78676,\n",
       " 'MUV-713': 78251,\n",
       " 'MUV-733': 78405,\n",
       " 'MUV-737': 78396,\n",
       " 'MUV-810': 78443,\n",
       " 'MUV-832': 78420,\n",
       " 'MUV-846': 78376,\n",
       " 'MUV-852': 78436,\n",
       " 'MUV-858': 78313,\n",
       " 'MUV-859': 78341}"
      ]
     },
     "execution_count": 4,
     "metadata": {},
     "output_type": "execute_result"
    }
   ],
   "source": [
    "# Counts of NaN for each task\n",
    "tasks = muv.columns[:-2]\n",
    "nan_counts = {}\n",
    "\n",
    "for task in tasks:\n",
    "    nan_count = np.count_nonzero(np.isnan(muv[task]))\n",
    "    nan_counts[task] = nan_count\n",
    "    \n",
    "nan_counts"
   ]
  },
  {
   "cell_type": "code",
   "execution_count": 5,
   "id": "20b36f8e-fcf4-4e62-bc57-7f29a9a2dba7",
   "metadata": {
    "tags": []
   },
   "outputs": [],
   "source": [
    "molecules = list(muv[\"smiles\"])\n",
    "\n",
    "# create mol objects\n",
    "mols = list()\n",
    "\n",
    "for smiles in molecules:\n",
    "    mol = Chem.MolFromSmiles(smiles)\n",
    "    mols.append(mol)"
   ]
  },
  {
   "cell_type": "code",
   "execution_count": 6,
   "id": "c63069e9-9d87-4e94-ab76-d545ce7ef78e",
   "metadata": {
    "tags": []
   },
   "outputs": [
    {
     "data": {
      "text/plain": [
       "(93087, 2048)"
      ]
     },
     "execution_count": 6,
     "metadata": {},
     "output_type": "execute_result"
    }
   ],
   "source": [
    "# ECFP fingerprints\n",
    "ecfps = list()\n",
    "\n",
    "for mol in mols:\n",
    "    fp_sparseVec = rdFingerprintGenerator.GetCountFPs(\n",
    "                    [mol], fpType=rdFingerprintGenerator.MorganFP\n",
    "                   )[0]\n",
    "    fp = np.zeros((0,), np.int8)  # Generate target pointer to fill\n",
    "    DataStructs.ConvertToNumpyArray(fp_sparseVec, fp)\n",
    "    \n",
    "    ecfps.append(fp)\n",
    "\n",
    "ecfps = np.array(ecfps)\n",
    "\n",
    "ecfps.shape"
   ]
  },
  {
   "cell_type": "code",
   "execution_count": 7,
   "id": "69c5883d-6dcf-462b-adc1-23052a81c0a7",
   "metadata": {
    "tags": []
   },
   "outputs": [
    {
     "data": {
      "text/plain": [
       "array([[0, 0, 0, ..., 0, 0, 0],\n",
       "       [0, 0, 0, ..., 0, 0, 0],\n",
       "       [0, 0, 0, ..., 0, 0, 0],\n",
       "       ...,\n",
       "       [0, 0, 0, ..., 0, 0, 1],\n",
       "       [0, 0, 0, ..., 0, 0, 0],\n",
       "       [0, 0, 0, ..., 0, 0, 0]], dtype=int8)"
      ]
     },
     "execution_count": 7,
     "metadata": {},
     "output_type": "execute_result"
    }
   ],
   "source": [
    "ecfps"
   ]
  },
  {
   "cell_type": "code",
   "execution_count": 8,
   "id": "09d9397d-e346-4170-bf2f-8632d44aa875",
   "metadata": {
    "tags": []
   },
   "outputs": [
    {
     "data": {
      "text/plain": [
       "(array([ 0,  1,  2,  3,  4,  5,  6,  7,  8,  9, 10, 11, 12, 13, 14, 15, 16,\n",
       "        17, 18, 19, 20], dtype=int8),\n",
       " array([186495626,   3071509,    646292,    138784,    122613,     47020,\n",
       "            44079,     25546,     24956,     12400,      6001,      3181,\n",
       "             2129,      1120,       587,       194,        87,        26,\n",
       "               16,         7,         3]))"
      ]
     },
     "execution_count": 8,
     "metadata": {},
     "output_type": "execute_result"
    }
   ],
   "source": [
    "np.unique(ecfps, return_counts=True)"
   ]
  },
  {
   "cell_type": "code",
   "execution_count": 8,
   "id": "39a33fa4-b3dc-4ca1-b660-a99c869e9cee",
   "metadata": {},
   "outputs": [
    {
     "ename": "KeyboardInterrupt",
     "evalue": "",
     "output_type": "error",
     "traceback": [
      "\u001b[0;31m---------------------------------------------------------------------------\u001b[0m",
      "\u001b[0;31mKeyboardInterrupt\u001b[0m                         Traceback (most recent call last)",
      "Cell \u001b[0;32mIn[8], line 8\u001b[0m\n\u001b[1;32m      6\u001b[0m \u001b[38;5;28;01mfor\u001b[39;00m descr \u001b[38;5;129;01min\u001b[39;00m Descriptors\u001b[38;5;241m.\u001b[39m_descList:\n\u001b[1;32m      7\u001b[0m     _, descr_calc_fn \u001b[38;5;241m=\u001b[39m descr\n\u001b[0;32m----> 8\u001b[0m     descrs\u001b[38;5;241m.\u001b[39mappend(\u001b[43mdescr_calc_fn\u001b[49m\u001b[43m(\u001b[49m\u001b[43mmol\u001b[49m\u001b[43m)\u001b[49m)\n\u001b[1;32m     10\u001b[0m descrs \u001b[38;5;241m=\u001b[39m np\u001b[38;5;241m.\u001b[39marray(descrs)\n\u001b[1;32m     11\u001b[0m descrs \u001b[38;5;241m=\u001b[39m descrs[real_200_descr]\n",
      "File \u001b[0;32m~/opt/anaconda3/lib/python3.8/site-packages/rdkit/Chem/QED.py:203\u001b[0m, in \u001b[0;36mqed\u001b[0;34m(mol, w, qedProperties)\u001b[0m\n\u001b[1;32m    189\u001b[0m \u001b[38;5;250m\u001b[39m\u001b[38;5;124;03m\"\"\" Calculate the weighted sum of ADS mapped properties\u001b[39;00m\n\u001b[1;32m    190\u001b[0m \n\u001b[1;32m    191\u001b[0m \u001b[38;5;124;03msome examples from the QED paper, reference values from Peter G's original implementation\u001b[39;00m\n\u001b[0;32m   (...)\u001b[0m\n\u001b[1;32m    200\u001b[0m \u001b[38;5;124;03m0.234...\u001b[39;00m\n\u001b[1;32m    201\u001b[0m \u001b[38;5;124;03m\"\"\"\u001b[39;00m\n\u001b[1;32m    202\u001b[0m \u001b[38;5;28;01mif\u001b[39;00m qedProperties \u001b[38;5;129;01mis\u001b[39;00m \u001b[38;5;28;01mNone\u001b[39;00m:\n\u001b[0;32m--> 203\u001b[0m   qedProperties \u001b[38;5;241m=\u001b[39m \u001b[43mproperties\u001b[49m\u001b[43m(\u001b[49m\u001b[43mmol\u001b[49m\u001b[43m)\u001b[49m\n\u001b[1;32m    204\u001b[0m d \u001b[38;5;241m=\u001b[39m [ads(pi, adsParameters[name]) \u001b[38;5;28;01mfor\u001b[39;00m name, pi \u001b[38;5;129;01min\u001b[39;00m qedProperties\u001b[38;5;241m.\u001b[39m_asdict()\u001b[38;5;241m.\u001b[39mitems()]\n\u001b[1;32m    205\u001b[0m t \u001b[38;5;241m=\u001b[39m \u001b[38;5;28msum\u001b[39m(wi \u001b[38;5;241m*\u001b[39m math\u001b[38;5;241m.\u001b[39mlog(di) \u001b[38;5;28;01mfor\u001b[39;00m wi, di \u001b[38;5;129;01min\u001b[39;00m \u001b[38;5;28mzip\u001b[39m(w, d))\n",
      "File \u001b[0;32m~/opt/anaconda3/lib/python3.8/site-packages/rdkit/Chem/QED.py:165\u001b[0m, in \u001b[0;36mproperties\u001b[0;34m(mol)\u001b[0m\n\u001b[1;32m    163\u001b[0m \u001b[38;5;28;01mif\u001b[39;00m mol \u001b[38;5;129;01mis\u001b[39;00m \u001b[38;5;28;01mNone\u001b[39;00m:\n\u001b[1;32m    164\u001b[0m   \u001b[38;5;28;01mraise\u001b[39;00m \u001b[38;5;167;01mValueError\u001b[39;00m(\u001b[38;5;124m'\u001b[39m\u001b[38;5;124mYou need to provide a mol argument.\u001b[39m\u001b[38;5;124m'\u001b[39m)\n\u001b[0;32m--> 165\u001b[0m mol \u001b[38;5;241m=\u001b[39m \u001b[43mChem\u001b[49m\u001b[38;5;241;43m.\u001b[39;49m\u001b[43mRemoveHs\u001b[49m\u001b[43m(\u001b[49m\u001b[43mmol\u001b[49m\u001b[43m)\u001b[49m\n\u001b[1;32m    166\u001b[0m qedProperties \u001b[38;5;241m=\u001b[39m QEDproperties(\n\u001b[1;32m    167\u001b[0m   MW\u001b[38;5;241m=\u001b[39mrdmd\u001b[38;5;241m.\u001b[39m_CalcMolWt(mol),\n\u001b[1;32m    168\u001b[0m   ALOGP\u001b[38;5;241m=\u001b[39mCrippen\u001b[38;5;241m.\u001b[39mMolLogP(mol),\n\u001b[0;32m   (...)\u001b[0m\n\u001b[1;32m    176\u001b[0m   ALERTS\u001b[38;5;241m=\u001b[39m\u001b[38;5;28msum\u001b[39m(\u001b[38;5;241m1\u001b[39m \u001b[38;5;28;01mfor\u001b[39;00m alert \u001b[38;5;129;01min\u001b[39;00m StructuralAlerts \u001b[38;5;28;01mif\u001b[39;00m mol\u001b[38;5;241m.\u001b[39mHasSubstructMatch(alert)),\n\u001b[1;32m    177\u001b[0m )\n\u001b[1;32m    178\u001b[0m \u001b[38;5;66;03m# The replacement\u001b[39;00m\n\u001b[1;32m    179\u001b[0m \u001b[38;5;66;03m# AROM=Lipinski.NumAromaticRings(mol),\u001b[39;00m\n\u001b[1;32m    180\u001b[0m \u001b[38;5;66;03m# is not identical. The expression above tends to count more rings\u001b[39;00m\n\u001b[1;32m    181\u001b[0m \u001b[38;5;66;03m# N1C2=CC=CC=C2SC3=C1C=CC4=C3C=CC=C4\u001b[39;00m\n\u001b[1;32m    182\u001b[0m \u001b[38;5;66;03m# OC1=C(O)C=C2C(=C1)OC3=CC(=O)C(=CC3=C2C4=CC=CC=C4)O\u001b[39;00m\n\u001b[1;32m    183\u001b[0m \u001b[38;5;66;03m# CC(C)C1=CC2=C(C)C=CC2=C(C)C=C1  uses 2, should be 0 ?\u001b[39;00m\n",
      "\u001b[0;31mKeyboardInterrupt\u001b[0m: "
     ]
    }
   ],
   "source": [
    "# Descriptors\n",
    "rdkit_descriptors = list()\n",
    "\n",
    "for mol in mols:\n",
    "    descrs = list()\n",
    "    for descr in Descriptors._descList:\n",
    "        _, descr_calc_fn = descr\n",
    "        descrs.append(descr_calc_fn(mol))\n",
    "        \n",
    "    descrs = np.array(descrs)\n",
    "    descrs = descrs[real_200_descr]\n",
    "    rdkit_descriptors.append(descrs)\n",
    "    \n",
    "rdkit_descriptors = np.array(rdkit_descriptors)\n",
    "\n",
    "rdkit_descriptors.shape"
   ]
  },
  {
   "cell_type": "code",
   "execution_count": 9,
   "id": "08dded83-b808-4e18-9bdd-0274e3c865a2",
   "metadata": {
    "tags": []
   },
   "outputs": [
    {
     "data": {
      "text/plain": [
       "array([[13.52335228, 13.52335228,  0.02397988, ...,  0.        ,\n",
       "         0.        ,  0.        ],\n",
       "       [11.99466951, 11.99466951,  0.06969654, ...,  0.        ,\n",
       "         0.        ,  0.        ],\n",
       "       [13.31086711, 13.31086711,  0.39540322, ...,  0.        ,\n",
       "         0.        ,  0.        ],\n",
       "       ...,\n",
       "       [11.44354725, 11.44354725,  0.38396348, ...,  0.        ,\n",
       "         0.        ,  0.        ],\n",
       "       [12.40518167, 12.40518167,  0.04070476, ...,  0.        ,\n",
       "         0.        ,  0.        ],\n",
       "       [11.94644652, 11.94644652,  0.1213511 , ...,  0.        ,\n",
       "         0.        ,  0.        ]])"
      ]
     },
     "execution_count": 9,
     "metadata": {},
     "output_type": "execute_result"
    }
   ],
   "source": [
    "with open(\"/Users/khalidali/Desktop/Uni Semesters/Semester 5/Practical Work/rdkit_descriptors.pkl\", \"rb\") as file:\n",
    "    rdkit_descriptors = pickle.load(file)\n",
    "    \n",
    "rdkit_descriptors"
   ]
  },
  {
   "cell_type": "code",
   "execution_count": 10,
   "id": "d32a6931-4d4c-414c-a855-f865f748fc21",
   "metadata": {
    "tags": []
   },
   "outputs": [
    {
     "name": "stdout",
     "output_type": "stream",
     "text": [
      "Shape of features: (93087, 2248) \n",
      "\n",
      "Features: \n",
      " [[0. 0. 0. ... 0. 0. 0.]\n",
      " [0. 0. 0. ... 0. 0. 0.]\n",
      " [0. 0. 0. ... 0. 0. 0.]\n",
      " ...\n",
      " [0. 0. 0. ... 0. 0. 0.]\n",
      " [0. 0. 0. ... 0. 0. 0.]\n",
      " [0. 0. 0. ... 0. 0. 0.]]\n"
     ]
    }
   ],
   "source": [
    "features = np.hstack((ecfps, rdkit_descriptors))\n",
    "\n",
    "print(f\"Shape of features: {features.shape} \\n\")\n",
    "print(f\"Features: \\n {features}\")"
   ]
  },
  {
   "cell_type": "code",
   "execution_count": 11,
   "id": "3e117273-ec57-4e53-b5ca-592540d4a7e6",
   "metadata": {
    "tags": []
   },
   "outputs": [
    {
     "data": {
      "text/plain": [
       "0        NaN\n",
       "1        0.0\n",
       "2        NaN\n",
       "3        NaN\n",
       "4        0.0\n",
       "        ... \n",
       "93082    NaN\n",
       "93083    NaN\n",
       "93084    NaN\n",
       "93085    NaN\n",
       "93086    NaN\n",
       "Name: MUV-466, Length: 93087, dtype: float64"
      ]
     },
     "execution_count": 11,
     "metadata": {},
     "output_type": "execute_result"
    }
   ],
   "source": [
    "label = muv[\"MUV-466\"]\n",
    "label"
   ]
  },
  {
   "cell_type": "markdown",
   "id": "e768ec31-27a4-49ca-be52-a453a1b9dc09",
   "metadata": {},
   "source": [
    "## Restructuring and Train-Validation-Test Split "
   ]
  },
  {
   "cell_type": "code",
   "execution_count": 12,
   "id": "380fa2c6-cda6-4432-bafa-33f12e6bc96b",
   "metadata": {
    "tags": []
   },
   "outputs": [
    {
     "name": "stdout",
     "output_type": "stream",
     "text": [
      "Shape of labels: (93087, 17)\n",
      "Shape of mol_id: (93087,)\n",
      "Shape of target_id: (17,)\n"
     ]
    }
   ],
   "source": [
    "mol_id = muv[\"mol_id\"].to_numpy()\n",
    "target_id = muv.columns.to_numpy()[:-2]\n",
    "labels = muv.values[:, :-2]\n",
    "\n",
    "print(f\"Shape of labels: {labels.shape}\")\n",
    "print(f\"Shape of mol_id: {mol_id.shape}\")\n",
    "print(f\"Shape of target_id: {target_id.shape}\")"
   ]
  },
  {
   "cell_type": "code",
   "execution_count": 13,
   "id": "c98984f6-c89b-4829-ae91-744d8a451d6c",
   "metadata": {},
   "outputs": [
    {
     "data": {
      "text/plain": [
       "array([[nan, nan, nan, ..., nan, nan, nan],\n",
       "       [0.0, 0.0, nan, ..., nan, 0.0, 0.0],\n",
       "       [nan, nan, 0.0, ..., nan, nan, 0.0],\n",
       "       ...,\n",
       "       [nan, nan, nan, ..., nan, nan, nan],\n",
       "       [nan, nan, nan, ..., 0.0, nan, nan],\n",
       "       [nan, nan, nan, ..., 0.0, nan, nan]], dtype=object)"
      ]
     },
     "execution_count": 13,
     "metadata": {},
     "output_type": "execute_result"
    }
   ],
   "source": [
    "labels"
   ]
  },
  {
   "cell_type": "code",
   "execution_count": 14,
   "id": "624802ac-9a48-4263-9e3e-4bfbf4312259",
   "metadata": {
    "tags": []
   },
   "outputs": [],
   "source": [
    "muv_matrix = np.empty(labels.shape, dtype=object)\n",
    "\n",
    "for r in range(len(muv_matrix)):\n",
    "    for c in range(len(muv_matrix[0])):\n",
    "        label = labels[r, c]\n",
    "        if label != 0.0 and label != 1.0:\n",
    "            label = -1\n",
    "        muv_matrix[r, c] = (r, c, int(label))"
   ]
  },
  {
   "cell_type": "code",
   "execution_count": 15,
   "id": "1c77da77-dc1b-4d37-a33c-01199d7b950d",
   "metadata": {
    "scrolled": true,
    "tags": []
   },
   "outputs": [
    {
     "name": "stdout",
     "output_type": "stream",
     "text": [
      "Shape of muv_matrix: (93087, 17) \n",
      "\n",
      "muv_matrix: \n",
      " [[(0, 0, -1) (0, 1, -1) (0, 2, -1) ... (0, 14, -1) (0, 15, -1)\n",
      "  (0, 16, -1)]\n",
      " [(1, 0, 0) (1, 1, 0) (1, 2, -1) ... (1, 14, -1) (1, 15, 0) (1, 16, 0)]\n",
      " [(2, 0, -1) (2, 1, -1) (2, 2, 0) ... (2, 14, -1) (2, 15, -1) (2, 16, 0)]\n",
      " ...\n",
      " [(93084, 0, -1) (93084, 1, -1) (93084, 2, -1) ... (93084, 14, -1)\n",
      "  (93084, 15, -1) (93084, 16, -1)]\n",
      " [(93085, 0, -1) (93085, 1, -1) (93085, 2, -1) ... (93085, 14, 0)\n",
      "  (93085, 15, -1) (93085, 16, -1)]\n",
      " [(93086, 0, -1) (93086, 1, -1) (93086, 2, -1) ... (93086, 14, 0)\n",
      "  (93086, 15, -1) (93086, 16, -1)]]\n"
     ]
    }
   ],
   "source": [
    "print(f\"Shape of muv_matrix: {muv_matrix.shape} \\n\")\n",
    "print(f\"muv_matrix: \\n {muv_matrix}\")"
   ]
  },
  {
   "cell_type": "code",
   "execution_count": 16,
   "id": "3aff5dec-786b-4283-9057-ccac20b2b5f9",
   "metadata": {},
   "outputs": [],
   "source": [
    "train_set = muv_matrix[:, :10]\n",
    "validation_set = muv_matrix[:, 10:13]\n",
    "test_set = muv_matrix[:, 13:16]"
   ]
  },
  {
   "cell_type": "code",
   "execution_count": 17,
   "id": "d9d56f51-cbfe-4e30-9a19-81ee8a7d740f",
   "metadata": {},
   "outputs": [
    {
     "data": {
      "text/plain": [
       "array([[(0, 0, -1), (0, 1, -1), (0, 2, -1), ..., (0, 7, 0), (0, 8, -1),\n",
       "        (0, 9, -1)],\n",
       "       [(1, 0, 0), (1, 1, 0), (1, 2, -1), ..., (1, 7, -1), (1, 8, -1),\n",
       "        (1, 9, -1)],\n",
       "       [(2, 0, -1), (2, 1, -1), (2, 2, 0), ..., (2, 7, -1), (2, 8, -1),\n",
       "        (2, 9, -1)],\n",
       "       ...,\n",
       "       [(93084, 0, -1), (93084, 1, -1), (93084, 2, -1), ...,\n",
       "        (93084, 7, -1), (93084, 8, -1), (93084, 9, -1)],\n",
       "       [(93085, 0, -1), (93085, 1, -1), (93085, 2, -1), ...,\n",
       "        (93085, 7, -1), (93085, 8, -1), (93085, 9, -1)],\n",
       "       [(93086, 0, -1), (93086, 1, -1), (93086, 2, -1), ...,\n",
       "        (93086, 7, -1), (93086, 8, -1), (93086, 9, -1)]], dtype=object)"
      ]
     },
     "execution_count": 17,
     "metadata": {},
     "output_type": "execute_result"
    }
   ],
   "source": [
    "train_set"
   ]
  },
  {
   "cell_type": "code",
   "execution_count": 18,
   "id": "99c88601-5ee9-4ccd-9d47-0ca2a69d89f8",
   "metadata": {},
   "outputs": [
    {
     "name": "stdout",
     "output_type": "stream",
     "text": [
      "Shape of training set: (93087, 10)\n",
      "Shape of validation set: (93087, 3)\n",
      "Shape of test set: (93087, 3)\n",
      "Shape of features: (93087, 2248)\n"
     ]
    }
   ],
   "source": [
    "print(f\"Shape of training set: {train_set.shape}\")\n",
    "print(f\"Shape of validation set: {validation_set.shape}\")\n",
    "print(f\"Shape of test set: {test_set.shape}\")\n",
    "print(f\"Shape of features: {features.shape}\")"
   ]
  },
  {
   "cell_type": "code",
   "execution_count": 19,
   "id": "d8361974-496a-4a69-92d1-ff0d2227ce46",
   "metadata": {},
   "outputs": [],
   "source": [
    "def filter(matrix):\n",
    "    matrix_copy = matrix.copy()\n",
    "    flattened = matrix_copy.reshape(-1)\n",
    "    filtered = []\n",
    "    for triplet in flattened:\n",
    "        if triplet[2] != -1:\n",
    "            filtered.append(triplet)\n",
    "\n",
    "    return np.array(filtered)"
   ]
  },
  {
   "cell_type": "code",
   "execution_count": 20,
   "id": "7be7947e-8525-4b74-9be3-c6f0edb7a1e7",
   "metadata": {},
   "outputs": [
    {
     "name": "stdout",
     "output_type": "stream",
     "text": [
      "Shape of the filtered train set: (147002, 3)\n",
      "\n",
      "Filtered train set: \n",
      " [[    0     7     0]\n",
      " [    1     0     0]\n",
      " [    1     1     0]\n",
      " ...\n",
      " [93073     8     0]\n",
      " [93079     5     0]\n",
      " [93083     7     0]]\n"
     ]
    }
   ],
   "source": [
    "filtered_train = filter(train_set)\n",
    "\n",
    "print(f\"Shape of the filtered train set: {filtered_train.shape}\\n\")\n",
    "print(f\"Filtered train set: \\n {filtered_train}\")"
   ]
  },
  {
   "cell_type": "code",
   "execution_count": 21,
   "id": "b4b27616-2366-44a6-ad5f-aaddc6d4c790",
   "metadata": {},
   "outputs": [
    {
     "name": "stdout",
     "output_type": "stream",
     "text": [
      "Shape of the filtered validation set: (44002, 3)\n",
      "\n",
      "Filtered validation set: \n",
      " [[    0    11     0]\n",
      " [    1    10     0]\n",
      " [    1    12     0]\n",
      " ...\n",
      " [93073    12     0]\n",
      " [93075    11     0]\n",
      " [93081    12     0]]\n"
     ]
    }
   ],
   "source": [
    "filtered_validation = filter(validation_set)\n",
    "\n",
    "print(f\"Shape of the filtered validation set: {filtered_validation.shape}\\n\")\n",
    "print(f\"Filtered validation set: \\n {filtered_validation}\")"
   ]
  },
  {
   "cell_type": "code",
   "execution_count": 22,
   "id": "1c3a6a61-ac8b-4c95-b404-134da5626658",
   "metadata": {},
   "outputs": [
    {
     "name": "stdout",
     "output_type": "stream",
     "text": [
      "Shape of the filtered test set: (44136, 3)\n",
      "\n",
      "Filtered test set: \n",
      " [[    1    15     0]\n",
      " [    3    15     0]\n",
      " [    5    15     0]\n",
      " ...\n",
      " [93084    13     0]\n",
      " [93085    14     0]\n",
      " [93086    14     0]]\n"
     ]
    }
   ],
   "source": [
    "filtered_test = filter(test_set)\n",
    "\n",
    "print(f\"Shape of the filtered test set: {filtered_test.shape}\\n\")\n",
    "print(f\"Filtered test set: \\n {filtered_test}\")"
   ]
  },
  {
   "cell_type": "code",
   "execution_count": 23,
   "id": "600b419c-3164-4d28-96cb-37eb82a80a4e",
   "metadata": {},
   "outputs": [
    {
     "name": "stdout",
     "output_type": "stream",
     "text": [
      "Train count: (array([0, 1]), array([146713,    289]))\n",
      "Validation count: (array([0, 1]), array([43914,    88]))\n",
      "Test count: (array([0, 1]), array([44048,    88]))\n"
     ]
    }
   ],
   "source": [
    "print(f\"Train count: {np.unique(filtered_train[:, 2], return_counts=True)}\")\n",
    "print(f\"Validation count: {np.unique(filtered_validation[:, 2], return_counts=True)}\")\n",
    "print(f\"Test count: {np.unique(filtered_test[:, 2], return_counts=True)}\")"
   ]
  },
  {
   "cell_type": "markdown",
   "id": "4d581a27-dbc2-4620-b69a-a8d3b075af63",
   "metadata": {},
   "source": [
    "## Random Forest"
   ]
  },
  {
   "cell_type": "code",
   "execution_count": 24,
   "id": "435ff69f-475a-434f-bbe1-2bda18fc7987",
   "metadata": {},
   "outputs": [],
   "source": [
    "import torch\n",
    "import torch.nn as nn\n",
    "import sklearn\n",
    "from sklearn.model_selection import train_test_split\n",
    "from sklearn.ensemble import RandomForestClassifier\n",
    "from sklearn.metrics import accuracy_score, balanced_accuracy_score, precision_score, roc_auc_score, average_precision_score\n",
    "from imblearn.over_sampling import SMOTE\n",
    "from collections import Counter\n",
    "from scipy.stats import pearsonr\n",
    "from sklearn.preprocessing import StandardScaler\n",
    "from torch.utils.data import Dataset, DataLoader, TensorDataset"
   ]
  },
  {
   "cell_type": "code",
   "execution_count": 25,
   "id": "d449cc0f-70c5-41e4-8e05-c3e3572b337d",
   "metadata": {},
   "outputs": [],
   "source": [
    "def compute_dauprc_score(predictions, labels, target_ids):\n",
    "    \"\"\"\n",
    "    Computes the ΔAUC-PR score for each target separately and the mean ΔAUC-PR score.\n",
    "    \"\"\"\n",
    "    dauprcs = list()\n",
    "    target_id_list = list()\n",
    "\n",
    "    for target_idx in torch.unique(target_ids):\n",
    "        rows = torch.where(target_ids == target_idx)\n",
    "        preds = predictions[rows].detach()\n",
    "        y = labels[rows].int()\n",
    "\n",
    "        if torch.unique(y).shape[0] == 2:\n",
    "            number_actives = y[y == 1].shape[0]\n",
    "            number_inactives = y[y == 0].shape[0]\n",
    "            number_total = number_actives + number_inactives\n",
    "\n",
    "            random_clf_auprc = number_actives / number_total\n",
    "            auprc = average_precision_score(\n",
    "                y.numpy().flatten(), preds.numpy().flatten()\n",
    "            )\n",
    "\n",
    "            dauprc = auprc - random_clf_auprc\n",
    "            dauprcs.append(dauprc)\n",
    "            target_id_list.append(target_idx.item())\n",
    "        else:\n",
    "            dauprcs.append(np.nan)\n",
    "            target_id_list.append(target_idx.item())\n",
    "\n",
    "    return np.nanmean(dauprcs), dauprcs, target_id_list"
   ]
  },
  {
   "cell_type": "code",
   "execution_count": 26,
   "id": "8aa2aec7-f19c-4efa-99a7-a750f63a6ab8",
   "metadata": {
    "scrolled": true
   },
   "outputs": [
    {
     "name": "stdout",
     "output_type": "stream",
     "text": [
      "Seed 0:\n",
      "Mean roc_auc_score = 0.7430\n",
      "Mean dauprc_score = 0.0472\n",
      "\n",
      "Seed 1:\n",
      "Mean roc_auc_score = 0.6724\n",
      "Mean dauprc_score = 0.0063\n",
      "\n",
      "Seed 2:\n",
      "Mean roc_auc_score = 0.7611\n",
      "Mean dauprc_score = 0.0241\n",
      "\n",
      "Seed 3:\n",
      "Mean roc_auc_score = 0.5241\n",
      "Mean dauprc_score = 0.0157\n",
      "\n",
      "Seed 4:\n",
      "Mean roc_auc_score = 0.7215\n",
      "Mean dauprc_score = 0.0156\n",
      "\n",
      "\n",
      "Mean AUC Score over all seeds: 0.6844, Standard Deviation over all seeds: 0.0855\n",
      "Mean DAUPRC Score over all seeds: 0.0218, Standard Deviation over all seeds: 0.0139\n"
     ]
    }
   ],
   "source": [
    "tasks = [13, 14, 15]\n",
    "seeds = [0, 1, 2, 3, 4]\n",
    "auc_results = {seed: [] for seed in seeds}\n",
    "dauprc_results = {seed: [] for seed in seeds}\n",
    "\n",
    "for seed in seeds:\n",
    "    np.random.seed(seed)\n",
    "    for task in tasks:\n",
    "        data = filtered_test[filtered_test[:, 1] == task]\n",
    "        X = features[data[:, 0]]\n",
    "        y = data[:, 2]\n",
    "        pos_indices = np.where(y == 1)[0]\n",
    "        neg_indices = np.where(y == 0)[0]\n",
    "        pos_train_indices = np.random.choice(pos_indices, size=5, replace=False)\n",
    "        neg_train_indices = np.random.choice(neg_indices, size=5, replace=False)\n",
    "        train_indices = np.concatenate([pos_train_indices, neg_train_indices])\n",
    "        test_indices = [i for i in range(len(y)) if i not in train_indices]\n",
    "        X_train, y_train = X[train_indices], y[train_indices]\n",
    "        X_test, y_test = X[test_indices], y[test_indices]\n",
    "\n",
    "        scaler = StandardScaler()\n",
    "        scaler.fit(X_train)\n",
    "        X_train = scaler.transform(X_train)\n",
    "        X_test = scaler.transform(X_test)\n",
    "\n",
    "        clf = RandomForestClassifier(random_state=seed)\n",
    "        clf.fit(X_train, y_train)\n",
    "        y_pred_proba = clf.predict_proba(X_test)[:, 1]\n",
    "        predictions_tensor = torch.tensor(y_pred_proba)\n",
    "        labels_tensor = torch.tensor(y_test)\n",
    "        target_ids_tensor = torch.zeros_like(labels_tensor)\n",
    "\n",
    "        auc_score = roc_auc_score(y_test, y_pred_proba)\n",
    "        mean_dauprc, dauprcs, target_id_list = compute_dauprc_score(\n",
    "            predictions_tensor, \n",
    "            labels_tensor, \n",
    "            target_ids_tensor)\n",
    "\n",
    "        auc_results[seed].append(auc_score)\n",
    "        dauprc_results[seed].append(mean_dauprc)\n",
    "\n",
    "mean_auc_seeds, std_auc_seeds = [], []\n",
    "mean_dauprc_seeds, std_dauprc_seeds = [], []\n",
    "for seed in seeds:\n",
    "    auc_scores = auc_results[seed]\n",
    "    mean_auc = np.mean(auc_scores)\n",
    "    mean_auc_seeds.append(mean_auc)\n",
    "    print(f\"Seed {seed}:\")\n",
    "    print(f\"Mean roc_auc_score = {mean_auc:.4f}\")\n",
    "\n",
    "    dauprcs = dauprc_results[seed]\n",
    "    mean_dauprc = np.nanmean(dauprcs)\n",
    "    mean_dauprc_seeds.append(mean_dauprc)\n",
    "    print(f\"Mean dauprc_score = {mean_dauprc:.4f}\\n\")\n",
    "\n",
    "print(f\"\\nMean AUC Score over all seeds: {np.mean(mean_auc_seeds):.4f}, Standard Deviation over all seeds: {np.std(mean_auc_seeds):.4f}\")\n",
    "print(f\"Mean DAUPRC Score over all seeds: {np.nanmean(mean_dauprc_seeds):.4f}, Standard Deviation over all seeds: {np.nanstd(mean_dauprc_seeds):.4f}\")"
   ]
  },
  {
   "cell_type": "markdown",
   "id": "92a51e25-e4b5-4219-85dc-e86cbd3b2834",
   "metadata": {},
   "source": [
    "## Neural Network (Frequent Hitter)"
   ]
  },
  {
   "cell_type": "code",
   "execution_count": 27,
   "id": "c6b0cad0-0842-4e07-bc3a-77d801abd489",
   "metadata": {},
   "outputs": [],
   "source": [
    "labels_filtered = filter(muv_matrix)"
   ]
  },
  {
   "cell_type": "code",
   "execution_count": 28,
   "id": "7d059146-aa94-4ef4-a129-c37f6a62d52b",
   "metadata": {},
   "outputs": [
    {
     "name": "stdout",
     "output_type": "stream",
     "text": [
      "Shape of labels: (249886, 3)\n",
      "\n",
      "Labels:\n",
      "[[    0     7     0]\n",
      " [    0    11     0]\n",
      " [    1     0     0]\n",
      " ...\n",
      " [93084    13     0]\n",
      " [93085    14     0]\n",
      " [93086    14     0]]\n"
     ]
    }
   ],
   "source": [
    "print(f\"Shape of labels: {labels_filtered.shape}\\n\")\n",
    "print(\"Labels:\")\n",
    "print(labels_filtered)"
   ]
  },
  {
   "cell_type": "code",
   "execution_count": 29,
   "id": "187a6fcd-14b2-492d-83ed-67ebdcb2dff1",
   "metadata": {},
   "outputs": [],
   "source": [
    "features_filtered = features[labels_filtered[:, 0]]"
   ]
  },
  {
   "cell_type": "code",
   "execution_count": 30,
   "id": "2ccf66d4-3f7c-4d32-9bf6-b7ba8c4845e0",
   "metadata": {},
   "outputs": [
    {
     "name": "stdout",
     "output_type": "stream",
     "text": [
      "Shape of features: (249886, 2248)\n",
      "\n",
      "features:\n",
      "[[0. 0. 0. ... 0. 0. 0.]\n",
      " [0. 0. 0. ... 0. 0. 0.]\n",
      " [0. 0. 0. ... 0. 0. 0.]\n",
      " ...\n",
      " [0. 0. 0. ... 0. 0. 0.]\n",
      " [0. 0. 0. ... 0. 0. 0.]\n",
      " [0. 0. 0. ... 0. 0. 0.]]\n"
     ]
    }
   ],
   "source": [
    "print(f\"Shape of features: {features_filtered.shape}\\n\")\n",
    "print(f\"features:\")\n",
    "print(features_filtered)"
   ]
  },
  {
   "cell_type": "code",
   "execution_count": 31,
   "id": "8f9b16a2-e202-46a4-aeca-818b3283724b",
   "metadata": {},
   "outputs": [],
   "source": [
    "class MoleculeDataset(Dataset):\n",
    "    def __init__(self, features, labels):\n",
    "        self.features = features\n",
    "        self.labels = labels\n",
    "\n",
    "    def __len__(self):\n",
    "        return len(self.labels)\n",
    "\n",
    "    def __getitem__(self, idx):\n",
    "        feature = self.features[idx]\n",
    "        label = self.labels[idx, 2]\n",
    "        return torch.tensor(feature, dtype=torch.float32), torch.tensor(label, dtype=torch.float32)\n",
    "\n",
    "\n",
    "class NeuralNet(nn.Module):\n",
    "    def __init__(self, input_size, hs1, hs2, hs3, output_size):\n",
    "        super(NeuralNet, self).__init__()\n",
    "        self.fc1 = nn.Linear(input_size, hs1)\n",
    "        self.fc2 = nn.Linear(hs1, hs2)\n",
    "        self.fc3 = nn.Linear(hs2, hs3)\n",
    "        self.fc4 = nn.Linear(hs3, output_size)\n",
    "        self.relu = nn.ReLU()\n",
    "        self.sigmoid = nn.Sigmoid()\n",
    "        self.input_dropout = nn.Dropout(0.25)\n",
    "        self.dropout = nn.Dropout(0.5)\n",
    "\n",
    "    def forward(self, x):\n",
    "        x = self.input_dropout(x)\n",
    "        x = self.dropout(self.relu(self.fc1(x)))\n",
    "        x = self.dropout(self.relu(self.fc2(x)))\n",
    "        x = self.dropout(self.relu(self.fc3(x)))\n",
    "        x = self.sigmoid(self.fc4(x))\n",
    "        return x"
   ]
  },
  {
   "cell_type": "code",
   "execution_count": 32,
   "id": "5fb4318a-2806-409c-9e1d-6591ac1010e8",
   "metadata": {},
   "outputs": [],
   "source": [
    "labels_train = filtered_train\n",
    "labels_val = filtered_validation\n",
    "labels_test = filtered_test\n",
    "\n",
    "features_train = features[labels_train[:, 0]]\n",
    "features_val = features[labels_val[:, 0]]\n",
    "features_test = features[labels_test[:, 0]]"
   ]
  },
  {
   "cell_type": "code",
   "execution_count": 33,
   "id": "a1f419ab-020d-4d53-b741-cab2ba884af7",
   "metadata": {},
   "outputs": [
    {
     "data": {
      "text/plain": [
       "array([[    0,    11,     0],\n",
       "       [    1,    10,     0],\n",
       "       [    1,    12,     0],\n",
       "       ...,\n",
       "       [93073,    12,     0],\n",
       "       [93075,    11,     0],\n",
       "       [93081,    12,     0]])"
      ]
     },
     "execution_count": 33,
     "metadata": {},
     "output_type": "execute_result"
    }
   ],
   "source": [
    "labels_val"
   ]
  },
  {
   "cell_type": "code",
   "execution_count": 34,
   "id": "d060209e-1dfc-4f78-9cb3-f15b0ca22f12",
   "metadata": {},
   "outputs": [],
   "source": [
    "scaler = StandardScaler()\n",
    "features_train = scaler.fit_transform(features_train)\n",
    "features_val = scaler.transform(features_val)\n",
    "features_test = scaler.transform(features_test)"
   ]
  },
  {
   "cell_type": "code",
   "execution_count": 35,
   "id": "24cb8ff0-cdb1-4e03-92ba-33fc5929f7f9",
   "metadata": {},
   "outputs": [],
   "source": [
    "def set_seed(seed):\n",
    "    torch.manual_seed(seed)\n",
    "    if torch.cuda.is_available():\n",
    "        torch.cuda.manual_seed(seed)"
   ]
  },
  {
   "cell_type": "code",
   "execution_count": 37,
   "id": "806faa49-2598-4ca5-a05a-e2a87354cef9",
   "metadata": {
    "scrolled": true
   },
   "outputs": [
    {
     "name": "stdout",
     "output_type": "stream",
     "text": [
      "Seed 0:\n",
      "Epoch 1/5, Step 5/18, Loss = 0.038409698754549026\n",
      "Epoch 1/5, Step 10/18, Loss = 0.08896353840827942\n",
      "Epoch 1/5, Step 15/18, Loss = 0.09843866527080536\n",
      "\n",
      "Validation Task 10, ROC AUC Score: 0.6705, Mean DAUPRC Score: 0.0039\n",
      "Validation Task 11, ROC AUC Score: 0.6932, Mean DAUPRC Score: 0.0034\n",
      "Validation Task 12, ROC AUC Score: 0.6116, Mean DAUPRC Score: 0.0033\n",
      "\n",
      "Epoch 2/5, Step 5/18, Loss = 0.13869287073612213\n",
      "Epoch 2/5, Step 10/18, Loss = 0.15759828686714172\n",
      "Epoch 2/5, Step 15/18, Loss = 0.17163579165935516\n",
      "\n",
      "Validation Task 10, ROC AUC Score: 0.6063, Mean DAUPRC Score: 0.0027\n",
      "Validation Task 11, ROC AUC Score: 0.6947, Mean DAUPRC Score: 0.0064\n",
      "Validation Task 12, ROC AUC Score: 0.5875, Mean DAUPRC Score: 0.0011\n",
      "\n",
      "Epoch 3/5, Step 5/18, Loss = 0.09536593407392502\n",
      "Epoch 3/5, Step 10/18, Loss = 0.1836562603712082\n",
      "Epoch 3/5, Step 15/18, Loss = 0.1135975569486618\n",
      "\n",
      "Validation Task 10, ROC AUC Score: 0.6710, Mean DAUPRC Score: 0.0025\n",
      "Validation Task 11, ROC AUC Score: 0.7598, Mean DAUPRC Score: 0.0096\n",
      "Validation Task 12, ROC AUC Score: 0.7147, Mean DAUPRC Score: 0.0023\n",
      "\n",
      "Epoch 4/5, Step 5/18, Loss = 0.11333101987838745\n",
      "Epoch 4/5, Step 10/18, Loss = 0.10261570662260056\n",
      "Epoch 4/5, Step 15/18, Loss = 0.09097597002983093\n",
      "\n",
      "Validation Task 10, ROC AUC Score: 0.6666, Mean DAUPRC Score: 0.0020\n",
      "Validation Task 11, ROC AUC Score: 0.7123, Mean DAUPRC Score: 0.0069\n",
      "Validation Task 12, ROC AUC Score: 0.6977, Mean DAUPRC Score: 0.0024\n",
      "\n",
      "Epoch 5/5, Step 5/18, Loss = 0.12604402005672455\n",
      "Epoch 5/5, Step 10/18, Loss = 0.03739524260163307\n",
      "Epoch 5/5, Step 15/18, Loss = 0.07148296386003494\n",
      "\n",
      "Validation Task 10, ROC AUC Score: 0.6366, Mean DAUPRC Score: 0.0023\n",
      "Validation Task 11, ROC AUC Score: 0.6862, Mean DAUPRC Score: 0.0089\n",
      "Validation Task 12, ROC AUC Score: 0.6806, Mean DAUPRC Score: 0.0021\n",
      "\n",
      "\n",
      "Results on the test set:\n",
      "Test Task 13, ROC AUC Score: 0.7142, Mean DAUPRC Score: 0.0020\n",
      "Test Task 14, ROC AUC Score: 0.7340, Mean DAUPRC Score: 0.0028\n",
      "Test Task 15, ROC AUC Score: 0.5789, Mean DAUPRC Score: 0.0007\n",
      "\n",
      " Mean ROC AUC Score across all test tasks: 0.6757\n",
      "Mean DAUPRC Score across all test tasks: 0.0018\n",
      "\n",
      "#########################################################################################################################\n",
      "\n",
      "Seed 1:\n",
      "Epoch 1/5, Step 5/18, Loss = 0.044632263481616974\n",
      "Epoch 1/5, Step 10/18, Loss = 0.043661829084157944\n",
      "Epoch 1/5, Step 15/18, Loss = 0.11600913107395172\n",
      "\n",
      "Validation Task 10, ROC AUC Score: 0.6826, Mean DAUPRC Score: 0.0095\n",
      "Validation Task 11, ROC AUC Score: 0.6089, Mean DAUPRC Score: 0.0014\n",
      "Validation Task 12, ROC AUC Score: 0.5840, Mean DAUPRC Score: 0.0013\n",
      "\n",
      "Epoch 2/5, Step 5/18, Loss = 0.10851351171731949\n",
      "Epoch 2/5, Step 10/18, Loss = 0.1302814930677414\n",
      "Epoch 2/5, Step 15/18, Loss = 0.10234574228525162\n",
      "\n",
      "Validation Task 10, ROC AUC Score: 0.7031, Mean DAUPRC Score: 0.0077\n",
      "Validation Task 11, ROC AUC Score: 0.6938, Mean DAUPRC Score: 0.0037\n",
      "Validation Task 12, ROC AUC Score: 0.6338, Mean DAUPRC Score: 0.0010\n",
      "\n",
      "Epoch 3/5, Step 5/18, Loss = 0.10859038680791855\n",
      "Epoch 3/5, Step 10/18, Loss = 0.0823836401104927\n",
      "Epoch 3/5, Step 15/18, Loss = 0.07508227229118347\n",
      "\n",
      "Validation Task 10, ROC AUC Score: 0.6780, Mean DAUPRC Score: 0.0036\n",
      "Validation Task 11, ROC AUC Score: 0.6966, Mean DAUPRC Score: 0.0159\n",
      "Validation Task 12, ROC AUC Score: 0.6146, Mean DAUPRC Score: 0.0009\n",
      "\n",
      "Epoch 4/5, Step 5/18, Loss = 0.014992775395512581\n",
      "Epoch 4/5, Step 10/18, Loss = 0.05786063149571419\n",
      "Epoch 4/5, Step 15/18, Loss = 0.04413619637489319\n",
      "\n",
      "Validation Task 10, ROC AUC Score: 0.7040, Mean DAUPRC Score: 0.0050\n",
      "Validation Task 11, ROC AUC Score: 0.7162, Mean DAUPRC Score: 0.0087\n",
      "Validation Task 12, ROC AUC Score: 0.6327, Mean DAUPRC Score: 0.0011\n",
      "\n",
      "Epoch 5/5, Step 5/18, Loss = 0.034052811563014984\n",
      "Epoch 5/5, Step 10/18, Loss = 0.053029149770736694\n",
      "Epoch 5/5, Step 15/18, Loss = 0.020217427983880043\n",
      "\n",
      "Validation Task 10, ROC AUC Score: 0.7298, Mean DAUPRC Score: 0.0065\n",
      "Validation Task 11, ROC AUC Score: 0.7405, Mean DAUPRC Score: 0.0121\n",
      "Validation Task 12, ROC AUC Score: 0.6653, Mean DAUPRC Score: 0.0015\n",
      "\n",
      "\n",
      "Results on the test set:\n",
      "Test Task 13, ROC AUC Score: 0.6366, Mean DAUPRC Score: 0.0007\n",
      "Test Task 14, ROC AUC Score: 0.7192, Mean DAUPRC Score: 0.0017\n",
      "Test Task 15, ROC AUC Score: 0.5252, Mean DAUPRC Score: 0.0001\n",
      "\n",
      " Mean ROC AUC Score across all test tasks: 0.6270\n",
      "Mean DAUPRC Score across all test tasks: 0.0008\n",
      "\n",
      "#########################################################################################################################\n",
      "\n",
      "Seed 2:\n",
      "Epoch 1/5, Step 5/18, Loss = 0.1953403502702713\n",
      "Epoch 1/5, Step 10/18, Loss = 0.03451167047023773\n",
      "Epoch 1/5, Step 15/18, Loss = 0.11547200381755829\n",
      "\n",
      "Validation Task 10, ROC AUC Score: 0.6015, Mean DAUPRC Score: 0.0010\n",
      "Validation Task 11, ROC AUC Score: 0.6190, Mean DAUPRC Score: 0.0072\n",
      "Validation Task 12, ROC AUC Score: 0.5730, Mean DAUPRC Score: 0.0027\n",
      "\n",
      "Epoch 2/5, Step 5/18, Loss = 0.0940093919634819\n",
      "Epoch 2/5, Step 10/18, Loss = 0.0916895717382431\n",
      "Epoch 2/5, Step 15/18, Loss = 0.15153861045837402\n",
      "\n",
      "Validation Task 10, ROC AUC Score: 0.6065, Mean DAUPRC Score: 0.0010\n",
      "Validation Task 11, ROC AUC Score: 0.7169, Mean DAUPRC Score: 0.0159\n",
      "Validation Task 12, ROC AUC Score: 0.5044, Mean DAUPRC Score: 0.0008\n",
      "\n",
      "Epoch 3/5, Step 5/18, Loss = 0.07443371415138245\n",
      "Epoch 3/5, Step 10/18, Loss = 0.16765044629573822\n",
      "Epoch 3/5, Step 15/18, Loss = 0.07335852831602097\n",
      "\n",
      "Validation Task 10, ROC AUC Score: 0.6168, Mean DAUPRC Score: 0.0015\n",
      "Validation Task 11, ROC AUC Score: 0.7180, Mean DAUPRC Score: 0.0140\n",
      "Validation Task 12, ROC AUC Score: 0.5909, Mean DAUPRC Score: 0.0007\n",
      "\n",
      "Epoch 4/5, Step 5/18, Loss = 0.10849238187074661\n",
      "Epoch 4/5, Step 10/18, Loss = 0.06498943269252777\n",
      "Epoch 4/5, Step 15/18, Loss = 0.08369054645299911\n",
      "\n",
      "Validation Task 10, ROC AUC Score: 0.6194, Mean DAUPRC Score: 0.0017\n",
      "Validation Task 11, ROC AUC Score: 0.6893, Mean DAUPRC Score: 0.0113\n",
      "Validation Task 12, ROC AUC Score: 0.5844, Mean DAUPRC Score: 0.0008\n",
      "\n",
      "Epoch 5/5, Step 5/18, Loss = 0.05072624981403351\n",
      "Epoch 5/5, Step 10/18, Loss = 0.03918022662401199\n",
      "Epoch 5/5, Step 15/18, Loss = 0.04215206578373909\n",
      "\n",
      "Validation Task 10, ROC AUC Score: 0.6219, Mean DAUPRC Score: 0.0023\n",
      "Validation Task 11, ROC AUC Score: 0.7078, Mean DAUPRC Score: 0.0079\n",
      "Validation Task 12, ROC AUC Score: 0.6139, Mean DAUPRC Score: 0.0011\n",
      "\n",
      "\n",
      "Results on the test set:\n",
      "Test Task 13, ROC AUC Score: 0.7469, Mean DAUPRC Score: 0.0026\n",
      "Test Task 14, ROC AUC Score: 0.7349, Mean DAUPRC Score: 0.0022\n",
      "Test Task 15, ROC AUC Score: 0.5919, Mean DAUPRC Score: 0.0005\n",
      "\n",
      " Mean ROC AUC Score across all test tasks: 0.6912\n",
      "Mean DAUPRC Score across all test tasks: 0.0018\n",
      "\n",
      "#########################################################################################################################\n",
      "\n",
      "Seed 3:\n",
      "Epoch 1/5, Step 5/18, Loss = 0.14139990508556366\n",
      "Epoch 1/5, Step 10/18, Loss = 0.05201257765293121\n",
      "Epoch 1/5, Step 15/18, Loss = 0.10402271151542664\n",
      "\n",
      "Validation Task 10, ROC AUC Score: 0.6082, Mean DAUPRC Score: 0.0014\n",
      "Validation Task 11, ROC AUC Score: 0.5598, Mean DAUPRC Score: 0.0041\n",
      "Validation Task 12, ROC AUC Score: 0.6599, Mean DAUPRC Score: 0.0025\n",
      "\n",
      "Epoch 2/5, Step 5/18, Loss = 0.11453329771757126\n",
      "Epoch 2/5, Step 10/18, Loss = 0.15235596895217896\n",
      "Epoch 2/5, Step 15/18, Loss = 0.11332254111766815\n",
      "\n",
      "Validation Task 10, ROC AUC Score: 0.6031, Mean DAUPRC Score: 0.0009\n",
      "Validation Task 11, ROC AUC Score: 0.5786, Mean DAUPRC Score: 0.0052\n",
      "Validation Task 12, ROC AUC Score: 0.6251, Mean DAUPRC Score: 0.0013\n",
      "\n",
      "Epoch 3/5, Step 5/18, Loss = 0.12508992850780487\n",
      "Epoch 3/5, Step 10/18, Loss = 0.10531077533960342\n",
      "Epoch 3/5, Step 15/18, Loss = 0.14150181412696838\n",
      "\n",
      "Validation Task 10, ROC AUC Score: 0.6430, Mean DAUPRC Score: 0.0013\n",
      "Validation Task 11, ROC AUC Score: 0.6186, Mean DAUPRC Score: 0.0067\n",
      "Validation Task 12, ROC AUC Score: 0.6671, Mean DAUPRC Score: 0.0015\n",
      "\n",
      "Epoch 4/5, Step 5/18, Loss = 0.1487620621919632\n",
      "Epoch 4/5, Step 10/18, Loss = 0.1587957739830017\n",
      "Epoch 4/5, Step 15/18, Loss = 0.08251713961362839\n",
      "\n",
      "Validation Task 10, ROC AUC Score: 0.6451, Mean DAUPRC Score: 0.0013\n",
      "Validation Task 11, ROC AUC Score: 0.6236, Mean DAUPRC Score: 0.0092\n",
      "Validation Task 12, ROC AUC Score: 0.6814, Mean DAUPRC Score: 0.0018\n",
      "\n",
      "Epoch 5/5, Step 5/18, Loss = 0.08872315287590027\n",
      "Epoch 5/5, Step 10/18, Loss = 0.08859345316886902\n",
      "Epoch 5/5, Step 15/18, Loss = 0.03919394686818123\n",
      "\n",
      "Validation Task 10, ROC AUC Score: 0.6161, Mean DAUPRC Score: 0.0030\n",
      "Validation Task 11, ROC AUC Score: 0.6382, Mean DAUPRC Score: 0.0232\n",
      "Validation Task 12, ROC AUC Score: 0.6644, Mean DAUPRC Score: 0.0016\n",
      "\n",
      "\n",
      "Results on the test set:\n",
      "Test Task 13, ROC AUC Score: 0.7145, Mean DAUPRC Score: 0.0018\n",
      "Test Task 14, ROC AUC Score: 0.7116, Mean DAUPRC Score: 0.0020\n",
      "Test Task 15, ROC AUC Score: 0.5563, Mean DAUPRC Score: 0.0003\n",
      "\n",
      " Mean ROC AUC Score across all test tasks: 0.6608\n",
      "Mean DAUPRC Score across all test tasks: 0.0014\n",
      "\n",
      "#########################################################################################################################\n",
      "\n",
      "Seed 4:\n",
      "Epoch 1/5, Step 5/18, Loss = 0.07861603796482086\n",
      "Epoch 1/5, Step 10/18, Loss = 0.044678423553705215\n",
      "Epoch 1/5, Step 15/18, Loss = 0.09471182525157928\n",
      "\n",
      "Validation Task 10, ROC AUC Score: 0.6586, Mean DAUPRC Score: 0.0024\n",
      "Validation Task 11, ROC AUC Score: 0.6034, Mean DAUPRC Score: 0.0035\n",
      "Validation Task 12, ROC AUC Score: 0.6474, Mean DAUPRC Score: 0.0033\n",
      "\n",
      "Epoch 2/5, Step 5/18, Loss = 0.08356207609176636\n",
      "Epoch 2/5, Step 10/18, Loss = 0.09377091377973557\n",
      "Epoch 2/5, Step 15/18, Loss = 0.1292676478624344\n",
      "\n",
      "Validation Task 10, ROC AUC Score: 0.7142, Mean DAUPRC Score: 0.0034\n",
      "Validation Task 11, ROC AUC Score: 0.6894, Mean DAUPRC Score: 0.0072\n",
      "Validation Task 12, ROC AUC Score: 0.6917, Mean DAUPRC Score: 0.0026\n",
      "\n",
      "Epoch 3/5, Step 5/18, Loss = 0.0789402425289154\n",
      "Epoch 3/5, Step 10/18, Loss = 0.11208780109882355\n",
      "Epoch 3/5, Step 15/18, Loss = 0.10517844557762146\n",
      "\n",
      "Validation Task 10, ROC AUC Score: 0.6981, Mean DAUPRC Score: 0.0032\n",
      "Validation Task 11, ROC AUC Score: 0.6880, Mean DAUPRC Score: 0.0070\n",
      "Validation Task 12, ROC AUC Score: 0.6910, Mean DAUPRC Score: 0.0024\n",
      "\n",
      "Epoch 4/5, Step 5/18, Loss = 0.06524884700775146\n",
      "Epoch 4/5, Step 10/18, Loss = 0.06827063113451004\n",
      "Epoch 4/5, Step 15/18, Loss = 0.04832235723733902\n",
      "\n",
      "Validation Task 10, ROC AUC Score: 0.6651, Mean DAUPRC Score: 0.0024\n",
      "Validation Task 11, ROC AUC Score: 0.6900, Mean DAUPRC Score: 0.0161\n",
      "Validation Task 12, ROC AUC Score: 0.6650, Mean DAUPRC Score: 0.0022\n",
      "\n",
      "Epoch 5/5, Step 5/18, Loss = 0.03899460285902023\n",
      "Epoch 5/5, Step 10/18, Loss = 0.06515437364578247\n",
      "Epoch 5/5, Step 15/18, Loss = 0.035454023629426956\n",
      "\n",
      "Validation Task 10, ROC AUC Score: 0.6991, Mean DAUPRC Score: 0.0032\n",
      "Validation Task 11, ROC AUC Score: 0.7087, Mean DAUPRC Score: 0.0191\n",
      "Validation Task 12, ROC AUC Score: 0.6619, Mean DAUPRC Score: 0.0019\n",
      "\n",
      "\n",
      "Results on the test set:\n",
      "Test Task 13, ROC AUC Score: 0.7417, Mean DAUPRC Score: 0.0023\n",
      "Test Task 14, ROC AUC Score: 0.7475, Mean DAUPRC Score: 0.0030\n",
      "Test Task 15, ROC AUC Score: 0.5752, Mean DAUPRC Score: 0.0006\n",
      "\n",
      " Mean ROC AUC Score across all test tasks: 0.6881\n",
      "Mean DAUPRC Score across all test tasks: 0.0020\n",
      "\n",
      "#########################################################################################################################\n",
      "\n",
      "\n",
      "\n",
      "Mean ROC AUC Score over all seeds: 0.6686, Standard Deviation: 0.0234\n",
      "Mean DAUPRC Score over all seeds: 0.0015, Standard Deviation:0.0004\n"
     ]
    }
   ],
   "source": [
    "seeds = [0, 1, 2, 3, 4]\n",
    "mean_roc_aucs_seeds, std_roc_aucs_seeds = [], []\n",
    "mean_dauprcs_seeds, std_dauprcs_seeds = [], []\n",
    "\n",
    "for seed in seeds:\n",
    "    set_seed(seed)\n",
    "\n",
    "    batch_size = 8192\n",
    "\n",
    "    train_dataset = MoleculeDataset(features_train, labels_train)\n",
    "    train_loader = DataLoader(dataset=train_dataset, batch_size=batch_size, shuffle=True, generator=torch.Generator().manual_seed(seed))\n",
    "    \n",
    "    val_tasks = [10, 11, 12]\n",
    "    val_datasets = {}\n",
    "    val_loaders = {}\n",
    "    for task in val_tasks:\n",
    "        val_datasets[task] = MoleculeDataset(features_val[labels_val[:,1] == task], labels_val[labels_val[:, 1] == task])\n",
    "    for task, dataset in val_datasets.items():\n",
    "        val_loaders[task] = DataLoader(dataset=dataset, batch_size=batch_size, shuffle=False, generator=torch.Generator().manual_seed(seed))\n",
    "    \n",
    "    test_tasks = [13, 14, 15]\n",
    "    test_datasets = {}\n",
    "    test_loaders = {}\n",
    "    for task in test_tasks:\n",
    "        test_datasets[task] = MoleculeDataset(features_test[labels_test[:, 1] == task], labels_test[labels_test[:, 1] == task])\n",
    "    for task, dataset in test_datasets.items():\n",
    "        test_loaders[task] = DataLoader(dataset=dataset, batch_size=batch_size, shuffle=False, generator=torch.Generator().manual_seed(seed))\n",
    "\n",
    "    \n",
    "    input_size = features_train.shape[1]\n",
    "    hs1 = 64\n",
    "    hs2 = 32\n",
    "    hs3 = 16\n",
    "    output_size = 1\n",
    "    num_epochs = 5\n",
    "    num_steps = len(train_loader)\n",
    "    learning_rate = 0.01\n",
    "    model = NeuralNet(input_size, hs1, hs2, hs3, output_size)\n",
    "    criterion = nn.BCELoss()\n",
    "    optimizer = torch.optim.Adam(model.parameters(), lr=learning_rate)\n",
    "\n",
    "\n",
    "    # Training\n",
    "    print(f\"Seed {seed}:\")\n",
    "    for epoch in range(num_epochs):\n",
    "        model.train()\n",
    "        for i, (features, labels) in enumerate(train_loader):\n",
    "            labels = labels.unsqueeze(1)\n",
    "            outputs = model(features)\n",
    "            loss = criterion(outputs, labels)\n",
    "            optimizer.zero_grad()\n",
    "            loss.backward()\n",
    "            optimizer.step()\n",
    "            if (i+1) % 5 == 0:\n",
    "                print(f\"Epoch {epoch+1}/{num_epochs}, Step {i+1}/{num_steps}, Loss = {loss}\")\n",
    "        print()\n",
    "    \n",
    "        # Validation\n",
    "        model.eval()\n",
    "        with torch.no_grad():\n",
    "            for task, val_loader in val_loaders.items():\n",
    "                all_labels = []\n",
    "                all_preds = []\n",
    "                for features, labels in val_loader:\n",
    "                    labels = labels.unsqueeze(1)\n",
    "                    outputs = model(features)\n",
    "                    all_preds.extend(outputs.numpy().flatten())\n",
    "                    all_labels.extend(labels.numpy().flatten())\n",
    "    \n",
    "                all_labels = np.array(all_labels, dtype=int)\n",
    "                all_preds = np.array(all_preds)\n",
    "    \n",
    "                # roc_auc score\n",
    "                roc_auc = roc_auc_score(all_labels, all_preds)\n",
    "    \n",
    "                # dauprc score\n",
    "                all_labels_tensor = torch.tensor(all_labels)\n",
    "                all_preds_tensor = torch.tensor(all_preds)\n",
    "                target_ids_tensor = torch.zeros_like(all_labels_tensor)\n",
    "                mean_dauprc, dauprcs, target_id_list = compute_dauprc_score(all_preds_tensor, all_labels_tensor, target_ids_tensor)\n",
    "    \n",
    "                print(f\"Validation Task {task}, ROC AUC Score: {roc_auc:.4f}, Mean DAUPRC Score: {mean_dauprc:.4f}\")\n",
    "            print()\n",
    "\n",
    "\n",
    "    # Testing\n",
    "    print(\"\\nResults on the test set:\")\n",
    "    auc_results_fh = []\n",
    "    dauprc_results_fh = []\n",
    "    \n",
    "    model.eval()\n",
    "    with torch.no_grad():\n",
    "        for task, test_loader in test_loaders.items():\n",
    "            all_preds = []\n",
    "            all_labels = []\n",
    "            for features, labels in test_loader:\n",
    "                labels = labels.unsqueeze(1)\n",
    "                outputs = model(features)\n",
    "                all_preds.extend(outputs.numpy().flatten())\n",
    "                all_labels.extend(labels.numpy().flatten())\n",
    "    \n",
    "            all_labels = np.array(all_labels, dtype=int)\n",
    "            all_preds = np.array(all_preds)\n",
    "    \n",
    "            # ROC AUC Score\n",
    "            roc_auc = roc_auc_score(all_labels, all_preds)\n",
    "    \n",
    "            # DAUPRC Score\n",
    "            all_preds_tensor = torch.tensor(all_preds)\n",
    "            all_labels_tensor = torch.tensor(all_labels)\n",
    "            target_ids_tensor = torch.zeros_like(all_labels_tensor)\n",
    "            mean_dauprc, dauprcs, target_id_list = compute_dauprc_score(all_preds_tensor, all_labels_tensor, target_ids_tensor)\n",
    "    \n",
    "            auc_results_fh.append(roc_auc)\n",
    "            dauprc_results_fh.append(mean_dauprc)\n",
    "    \n",
    "            print(f\"Test Task {task}, ROC AUC Score: {roc_auc:.4f}, Mean DAUPRC Score: {mean_dauprc:.4f}\")\n",
    "\n",
    "    mean_roc_aucs_seeds.append(np.mean(auc_results_fh))\n",
    "    mean_dauprcs_seeds.append(np.nanmean(dauprc_results_fh))\n",
    "\n",
    "    \n",
    "    print(f\"\\n Mean ROC AUC Score across all test tasks: {np.mean(auc_results_fh):.4f}\")\n",
    "    print(f\"Mean DAUPRC Score across all test tasks: {np.mean(dauprc_results_fh):.4f}\")\n",
    "    print(\"\\n#########################################################################################################################\\n\")\n",
    "    \n",
    "\n",
    "\n",
    "print()\n",
    "print(f\"\\nMean ROC AUC Score over all seeds: {np.mean(mean_roc_aucs_seeds):.4f}, Standard Deviation: {np.std(mean_roc_aucs_seeds):.4f}\")\n",
    "print(f\"Mean DAUPRC Score over all seeds: {np.mean(mean_dauprcs_seeds):.4f}, Standard Deviation:{np.std(mean_dauprcs_seeds):.4f}\")"
   ]
  },
  {
   "cell_type": "code",
   "execution_count": 40,
   "id": "e840152f-5eeb-4652-8c45-757e8b71d102",
   "metadata": {
    "scrolled": true
   },
   "outputs": [
    {
     "data": {
      "image/png": "[encoded data removed]",
      "text/plain": [
       "<Figure size 640x480 with 1 Axes>"
      ]
     },
     "metadata": {},
     "output_type": "display_data"
    },
    {
     "data": {
      "image/png": "[encoded data removed]",
      "text/plain": [
       "<Figure size 640x480 with 1 Axes>"
      ]
     },
     "metadata": {},
     "output_type": "display_data"
    },
    {
     "data": {
      "image/png": "[encoded data removed]",
      "text/plain": [
       "<Figure size 640x480 with 1 Axes>"
      ]
     },
     "metadata": {},
     "output_type": "display_data"
    },
    {
     "data": {
      "image/png": "[encoded data removed]",
      "text/plain": [
       "<Figure size 640x480 with 1 Axes>"
      ]
     },
     "metadata": {},
     "output_type": "display_data"
    }
   ],
   "source": [
    "import matplotlib.pyplot as plt\n",
    "\n",
    "# Function to plot performance metrics\n",
    "def plot_performance(seeds, auc_results, dauprc_results, model_name):\n",
    "    mean_auc = [np.mean(auc_results[i]) if i < len(auc_results) else np.nan for i in range(len(seeds))]\n",
    "    std_auc = [np.std(auc_results[i]) if i < len(auc_results) else np.nan for i in range(len(seeds))]\n",
    "    mean_dauprc = [np.nanmean(dauprc_results[i]) if i < len(dauprc_results) else np.nan for i in range(len(seeds))]\n",
    "    std_dauprc = [np.nanstd(dauprc_results[i]) if i < len(dauprc_results) else np.nan for i in range(len(seeds))]\n",
    "\n",
    "    # Plot ROC AUC\n",
    "    plt.figure()\n",
    "    plt.errorbar(seeds, mean_auc, yerr=std_auc, fmt='-o', capsize=5, label='ROC AUC')\n",
    "    plt.title(f\"{model_name} - Mean ROC AUC Score Across Seeds\")\n",
    "    plt.xlabel(\"Seed\")\n",
    "    plt.ylabel(\"Mean ROC AUC\")\n",
    "    plt.ylim(0, 1)\n",
    "    plt.legend()\n",
    "    plt.grid()\n",
    "    plt.show()\n",
    "\n",
    "    # Plot DAUPRC\n",
    "    plt.figure()\n",
    "    plt.errorbar(seeds, mean_dauprc, yerr=std_dauprc, fmt='-o', capsize=5, label='DAUPRC')\n",
    "    plt.title(f\"{model_name} - Mean DAUPRC Score Across Seeds\")\n",
    "    plt.xlabel(\"Seed\")\n",
    "    plt.ylabel(\"Mean DAUPRC\")\n",
    "    plt.ylim(0, 0.1)\n",
    "    plt.legend()\n",
    "    plt.grid()\n",
    "    plt.show()\n",
    "\n",
    "\n",
    "plot_performance(seeds, mean_auc_seeds, mean_dauprc_seeds, model_name=\"Random Forest\")\n",
    "plot_performance(seeds, mean_roc_aucs_seeds, mean_dauprcs_seeds, model_name=\"Frequent Hitters\")"
   ]
  }
 ],
 "metadata": {
  "kernelspec": {
   "display_name": "Python 3",
   "language": "python",
   "name": "python3"
  },
  "language_info": {
   "codemirror_mode": {
    "name": "ipython",
    "version": 3
   },
   "file_extension": ".py",
   "mimetype": "text/x-python",
   "name": "python",
   "nbconvert_exporter": "python",
   "pygments_lexer": "ipython3",
   "version": "3.8.18"
  }
 },
 "nbformat": 4,
 "nbformat_minor": 5
}
